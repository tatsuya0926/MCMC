{
 "cells": [
  {
   "cell_type": "code",
   "execution_count": null,
   "metadata": {},
   "outputs": [],
   "source": [
    "import numpy as np\n",
    "import matplotlib.pyplot as plt\n",
    "\n",
    "from simulated_annealing import *"
   ]
  },
  {
   "cell_type": "code",
   "execution_count": null,
   "metadata": {},
   "outputs": [],
   "source": [
    "li = 32\n",
    "Ni = li*li\n",
    "Ji = np.ones((Ni,Ni)) - np.eye(Ni)\n",
    "hi = np.zeros((Ni,1))\n",
    "maxStepi = 10000\n",
    "\n",
    "modeli = IsingModel(Ni,Ji,hi)\n",
    "statei, hamsi, timesi = modeli.simulated_annealing(maxStepi)\n",
    "\n",
    "plt.figure()\n",
    "plt.plot(timesi, hamsi)\n",
    "plt.xlabel('times [sec]')\n",
    "plt.ylabel('energy')\n",
    "plt.figure()\n",
    "plt.imshow(statei.reshape(li,li))"
   ]
  },
  {
   "cell_type": "code",
   "execution_count": null,
   "metadata": {},
   "outputs": [],
   "source": [
    "lp = 20\n",
    "Np = lp*lp\n",
    "Jp = np.ones((Np,Np))\n",
    "hp = np.zeros((Np,))\n",
    "q=4\n",
    "maxStepp = 10000\n",
    "\n",
    "\n",
    "modelp = PottsModel(Np, Jp, hp, q=q)\n",
    "statep, hamsp, timep = modelp.simulated_annealing(maxStepp)\n",
    "\n",
    "plt.figure()\n",
    "plt.plot(timep, hamsp)\n",
    "plt.xlabel('times [sec]')\n",
    "plt.ylabel('energy')\n",
    "plt.figure()\n",
    "im = plt.imshow(statep.reshape(lp,lp), vmin=0, vmax=q-1)\n",
    "plt.colorbar(im)"
   ]
  },
  {
   "cell_type": "code",
   "execution_count": null,
   "metadata": {},
   "outputs": [],
   "source": [
    "import matplotlib.cm as cm\n",
    "\n",
    "lx = 20\n",
    "Nx = lx*lx\n",
    "Jx = np.ones((Nx,Nx))\n",
    "hx = np.zeros((2, Nx))\n",
    "maxStepx = 10000\n",
    "\n",
    "modelx = XYModel(Nx, Jx, hx)\n",
    "statex, hamsx, timesx = modelx.simulated_annealing(maxStepx)\n",
    "\n",
    "plt.figure()\n",
    "plt.plot(timesx, hamsx)\n",
    "plt.xlabel('times [sec]')\n",
    "plt.ylabel('energy')\n",
    "plt.figure()\n",
    "im = plt.imshow(np.arctan2(statex[1,:],statex[0,:]).reshape(lx,lx), cmap=cm.hsv, vmin=0, vmax=2*np.pi)\n",
    "plt.colorbar(im)"
   ]
  }
 ],
 "metadata": {
  "interpreter": {
   "hash": "12e0a424587e99a76ee1c745085bf2349bfa23ee87f6a49bbb71ebd01ba8b955"
  },
  "kernelspec": {
   "display_name": "Python 3.11.0 ('.venv': venv)",
   "language": "python",
   "name": "python3"
  },
  "language_info": {
   "codemirror_mode": {
    "name": "ipython",
    "version": 3
   },
   "file_extension": ".py",
   "mimetype": "text/x-python",
   "name": "python",
   "nbconvert_exporter": "python",
   "pygments_lexer": "ipython3",
   "version": "3.11.0"
  },
  "orig_nbformat": 4
 },
 "nbformat": 4,
 "nbformat_minor": 2
}
