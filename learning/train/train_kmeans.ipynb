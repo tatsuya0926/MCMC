{
 "cells": [
  {
   "cell_type": "code",
   "execution_count": 1,
   "metadata": {},
   "outputs": [],
   "source": [
    "import numpy as np\n",
    "import matplotlib.pyplot as plt\n",
    "from sklearn.cluster import KMeans"
   ]
  },
  {
   "cell_type": "code",
   "execution_count": 2,
   "metadata": {},
   "outputs": [
    {
     "name": "stdout",
     "output_type": "stream",
     "text": [
      "[[2.1, 'dataset/2d_Ising/L64/L64T0_'], [2.11, 'dataset/2d_Ising/L64/L64T1_'], [2.1199999999999997, 'dataset/2d_Ising/L64/L64T2_'], [2.1299999999999994, 'dataset/2d_Ising/L64/L64T3_'], [2.1399999999999992, 'dataset/2d_Ising/L64/L64T4_'], [2.149999999999999, 'dataset/2d_Ising/L64/L64T5_'], [2.159999999999999, 'dataset/2d_Ising/L64/L64T6_'], [2.1699999999999986, 'dataset/2d_Ising/L64/L64T7_'], [2.1799999999999984, 'dataset/2d_Ising/L64/L64T8_'], [2.189999999999998, 'dataset/2d_Ising/L64/L64T9_'], [2.199999999999998, 'dataset/2d_Ising/L64/L64T10_'], [2.2099999999999977, 'dataset/2d_Ising/L64/L64T11_'], [2.2199999999999975, 'dataset/2d_Ising/L64/L64T12_'], [2.2299999999999973, 'dataset/2d_Ising/L64/L64T13_'], [2.239999999999997, 'dataset/2d_Ising/L64/L64T14_'], [2.249999999999997, 'dataset/2d_Ising/L64/L64T15_'], [2.2599999999999967, 'dataset/2d_Ising/L64/L64T16_'], [2.2699999999999965, 'dataset/2d_Ising/L64/L64T17_'], [2.2799999999999963, 'dataset/2d_Ising/L64/L64T18_'], [2.289999999999996, 'dataset/2d_Ising/L64/L64T19_'], [2.299999999999996, 'dataset/2d_Ising/L64/L64T20_'], [2.3099999999999956, 'dataset/2d_Ising/L64/L64T21_'], [2.3199999999999954, 'dataset/2d_Ising/L64/L64T22_'], [2.329999999999995, 'dataset/2d_Ising/L64/L64T23_'], [2.339999999999995, 'dataset/2d_Ising/L64/L64T24_'], [2.3499999999999948, 'dataset/2d_Ising/L64/L64T25_'], [2.3599999999999945, 'dataset/2d_Ising/L64/L64T26_'], [2.3699999999999943, 'dataset/2d_Ising/L64/L64T27_'], [2.379999999999994, 'dataset/2d_Ising/L64/L64T28_'], [2.389999999999994, 'dataset/2d_Ising/L64/L64T29_'], [2.3999999999999937, 'dataset/2d_Ising/L64/L64T30_']]\n"
     ]
    }
   ],
   "source": [
    "nconf = 30\n",
    "conf = 50\n",
    "t_sum = 2.1\n",
    "prm_list = []\n",
    "for i in range(nconf + 1):\n",
    "    prm_list.append([t_sum, f\"dataset/2d_Ising/L64/L64T{i}_\"])\n",
    "    t_sum += 0.01\n",
    "print(prm_list)\n",
    "# Temterature31 x conf50 = 1550 data"
   ]
  },
  {
   "cell_type": "code",
   "execution_count": 14,
   "metadata": {},
   "outputs": [],
   "source": [
    "img_list = []\n",
    "for num in range(nconf+1):\n",
    "    for iconf in range(conf):\n",
    "        img_list.append(np.load(f\"dataset/2d_Ising/L64/L64T{num}_{iconf}.npy\"))\n",
    "\n",
    "img_dataset = np.array(img_list)"
   ]
  },
  {
   "cell_type": "code",
   "execution_count": 17,
   "metadata": {},
   "outputs": [
    {
     "name": "stdout",
     "output_type": "stream",
     "text": [
      "(1550, 64, 64)\n",
      "(1550, 4096)\n"
     ]
    }
   ],
   "source": [
    "print(img_dataset.shape)\n",
    "img_dataset = img_dataset.reshape(img_dataset.shape[0], -1)\n",
    "print(img_dataset.shape)"
   ]
  },
  {
   "cell_type": "code",
   "execution_count": 18,
   "metadata": {},
   "outputs": [
    {
     "name": "stderr",
     "output_type": "stream",
     "text": [
      "/Users/miyata/MCMC/.venv/lib/python3.11/site-packages/sklearn/cluster/_kmeans.py:1416: FutureWarning: The default value of `n_init` will change from 10 to 'auto' in 1.4. Set the value of `n_init` explicitly to suppress the warning\n",
      "  super()._check_params_vs_input(X, default_n_init=10)\n"
     ]
    }
   ],
   "source": [
    "n_clusters = 2\n",
    "model = KMeans(n_clusters=n_clusters).fit(img_dataset)"
   ]
  },
  {
   "cell_type": "code",
   "execution_count": null,
   "metadata": {},
   "outputs": [],
   "source": []
  }
 ],
 "metadata": {
  "interpreter": {
   "hash": "12e0a424587e99a76ee1c745085bf2349bfa23ee87f6a49bbb71ebd01ba8b955"
  },
  "kernelspec": {
   "display_name": "Python 3.11.0 ('.venv': venv)",
   "language": "python",
   "name": "python3"
  },
  "language_info": {
   "codemirror_mode": {
    "name": "ipython",
    "version": 3
   },
   "file_extension": ".py",
   "mimetype": "text/x-python",
   "name": "python",
   "nbconvert_exporter": "python",
   "pygments_lexer": "ipython3",
   "version": "3.11.0"
  },
  "orig_nbformat": 4
 },
 "nbformat": 4,
 "nbformat_minor": 2
}
