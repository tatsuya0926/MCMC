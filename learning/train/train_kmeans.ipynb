{
 "cells": [
  {
   "cell_type": "code",
   "execution_count": 1,
   "metadata": {},
   "outputs": [],
   "source": [
    "import numpy as np\n",
    "import matplotlib.pyplot as plt\n",
    "from sklearn.cluster import KMeans\n",
    "from utils import create_param_list"
   ]
  },
  {
   "cell_type": "code",
   "execution_count": 3,
   "metadata": {},
   "outputs": [
    {
     "name": "stdout",
     "output_type": "stream",
     "text": [
      "データ数:6200\n"
     ]
    }
   ],
   "source": [
    "nconf = 31\n",
    "ndata = 200\n",
    "L = 64\n",
    "T_cr = 2.269 # critical temp for 2d ising\n",
    "t_start = 2.1\n",
    "\n",
    "prm_list, t_end = create_param_list(nconf=nconf, t_start=t_start, L=L, model_name=\"2d_Ising\")\n",
    "# print(prm_list)\n",
    "print(f\"データ数:{nconf*ndata}\")"
   ]
  },
  {
   "cell_type": "code",
   "execution_count": 14,
   "metadata": {},
   "outputs": [],
   "source": [
    "img_list = []\n",
    "for num in range(nconf):\n",
    "    for iconf in range(ndata):\n",
    "        file = f\"{prm_list[num][1]}{iconf}.npy\"\n",
    "        img_list.append(np.load(file))\n",
    "\n",
    "img_dataset = np.array(img_list)"
   ]
  },
  {
   "cell_type": "code",
   "execution_count": 17,
   "metadata": {},
   "outputs": [
    {
     "name": "stdout",
     "output_type": "stream",
     "text": [
      "(1550, 64, 64)\n",
      "(1550, 4096)\n"
     ]
    }
   ],
   "source": [
    "# flatten+kmeans\n",
    "n_clusters = 2\n",
    "\n",
    "img_dataset = img_dataset.reshape(img_dataset.shape[0], -1)\n",
    "model = KMeans(n_clusters=n_clusters, n_init='auto').fit(img_dataset)"
   ]
  },
  {
   "cell_type": "code",
   "execution_count": null,
   "metadata": {},
   "outputs": [],
   "source": [
    "# pca+kmeans"
   ]
  },
  {
   "cell_type": "code",
   "execution_count": null,
   "metadata": {},
   "outputs": [],
   "source": [
    "# CNN+kmeans"
   ]
  }
 ],
 "metadata": {
  "kernelspec": {
   "display_name": ".venv",
   "language": "python",
   "name": "python3"
  },
  "language_info": {
   "codemirror_mode": {
    "name": "ipython",
    "version": 3
   },
   "file_extension": ".py",
   "mimetype": "text/x-python",
   "name": "python",
   "nbconvert_exporter": "python",
   "pygments_lexer": "ipython3",
   "version": "3.11.0"
  },
  "orig_nbformat": 4,
  "vscode": {
   "interpreter": {
    "hash": "0004e466adf40374ab7179c2dbfe52366f7166937f5d122ace80e46d2b93611d"
   }
  }
 },
 "nbformat": 4,
 "nbformat_minor": 2
}
